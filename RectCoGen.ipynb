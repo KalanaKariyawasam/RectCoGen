{
  "nbformat": 4,
  "nbformat_minor": 0,
  "metadata": {
    "colab": {
      "provenance": [],
      "mount_file_id": "https://github.com/KalanaKariyawasam/RectCoGen-Automaic-Front-end-Code-Generation/blob/main/RectCoGen.ipynb",
      "authorship_tag": "ABX9TyMNvK6yiDShLd5yvZqErOW6",
      "include_colab_link": true
    },
    "kernelspec": {
      "name": "python3",
      "display_name": "Python 3"
    },
    "language_info": {
      "name": "python"
    }
  },
  "cells": [
    {
      "cell_type": "markdown",
      "metadata": {
        "id": "view-in-github",
        "colab_type": "text"
      },
      "source": [
        "<a href=\"https://colab.research.google.com/github/KalanaKariyawasam/RectCoGen/blob/rectcogen_ml_model/RectCoGen.ipynb\" target=\"_parent\"><img src=\"https://colab.research.google.com/assets/colab-badge.svg\" alt=\"Open In Colab\"/></a>"
      ]
    },
    {
      "cell_type": "markdown",
      "source": [
        "Kalana Kariyawasam  \n",
        "w1809765  \n",
        "2019353\n",
        "\n",
        "#RectCoGen: Machine Learning Based Code Generation for Front-end Implementation\n",
        "\n",
        "**Domain:** Front-end Development  \n",
        "**Problem Overview:** The labor-intensive and error-prone process of manually converting web wireframes and graphical user interfaces (GUIs) into functional code. Traditionally, this task requires extensive collaboration between designers and developers, leading to increased development time, higher costs, and potential for discrepancies between the intended design and the implemented functionality. RectCoGen seeks to simplify this process by introducing an automated solution that transforms design blueprints into React components, aiming to improve efficiency, reduce errors, and lower financial burdens associated with web development.\n",
        "\n",
        "\n",
        "\n",
        "\n",
        "\n",
        "\n"
      ],
      "metadata": {
        "id": "X95ly257E-Kk"
      }
    },
    {
      "cell_type": "markdown",
      "source": [
        "#Initial Setup\n"
      ],
      "metadata": {
        "id": "PyfSgWKtDxNR"
      }
    },
    {
      "cell_type": "code",
      "source": [
        "from os import listdir\n",
        "from numpy import array\n",
        "import numpy as np\n",
        "import os\n",
        "from sklearn.model_selection import train_test_split\n",
        "\n",
        "# Importing necessary functions from tensorflow.keras instead of keras\n",
        "from tensorflow.keras.preprocessing.text import Tokenizer, one_hot\n",
        "from tensorflow.keras.preprocessing.sequence import pad_sequences\n",
        "from tensorflow.keras.models import Model, Sequential, model_from_json\n",
        "from tensorflow.keras.utils import to_categorical\n",
        "# Updated import path for Dense, Dropout, Flatten\n",
        "from tensorflow.keras.layers import Dense, Dropout, Flatten, Conv2D, Embedding, TimeDistributed, RepeatVector, LSTM, concatenate, Input, Reshape\n",
        "from tensorflow.keras.optimizers import RMSprop\n",
        "from tensorflow.keras.callbacks import ModelCheckpoint\n",
        "from tensorflow.keras.preprocessing.image import array_to_img, img_to_array, load_img\n",
        "\n",
        "import tensorflow as tf\n",
        "import matplotlib.pyplot as plt\n",
        "from PIL import Image"
      ],
      "metadata": {
        "id": "tCALTlGeD1lj"
      },
      "execution_count": 11,
      "outputs": []
    },
    {
      "cell_type": "code",
      "source": [
        "# Directory where the data is stored\n",
        "data_dir = '/content/drive/MyDrive/Datasets/web/all_data'\n",
        "\n",
        "# Lists to store paths of images and their labels\n",
        "image_paths = []\n",
        "labels = []\n",
        "\n",
        "# Assuming images and their corresponding markup files are in the same directory\n",
        "for filename in os.listdir(data_dir):\n",
        "    if filename.endswith('.png'):  # or '.jpg' depending on your dataset\n",
        "        image_paths.append(os.path.join(data_dir, filename))\n",
        "        label_path = os.path.join(data_dir, filename.replace('.png', '.gui'))  # Adjust the extension based on your data\n",
        "        labels.append(label_path)\n",
        "\n",
        "# Split the data into training and evaluation sets\n",
        "X_train, X_eval, y_train, y_eval = train_test_split(image_paths, labels, test_size=0.2, random_state=42)\n",
        "\n",
        "# X_train and y_train are your training images and labels respectively\n",
        "# X_eval and y_eval are your evaluation images and labels respectively"
      ],
      "metadata": {
        "id": "kP5rKrFpEAfZ"
      },
      "execution_count": 3,
      "outputs": []
    },
    {
      "cell_type": "markdown",
      "source": [
        "#Training Parameters"
      ],
      "metadata": {
        "id": "yJDwyoA-Fse5"
      }
    },
    {
      "cell_type": "code",
      "source": [
        "# Check if GPU is available and set hyperparameters accordingly\n",
        "if tf.config.list_physical_devices('GPU'):\n",
        "    # GPU settings\n",
        "    EPOCHS = 50\n",
        "    MAX_SEQUENCE = 150\n",
        "    MAX_LEN = 48\n",
        "else:\n",
        "    # CPU settings\n",
        "    EPOCHS = 50\n",
        "    MAX_SEQUENCE = 100\n",
        "    MAX_LEN = 48\n",
        "    print(\"WARNING: Switch on GPU for faster training!\")\n"
      ],
      "metadata": {
        "id": "niNPXK7kEy_-",
        "outputId": "475b4504-8f0c-48b6-df9b-808b1c501308",
        "colab": {
          "base_uri": "https://localhost:8080/"
        }
      },
      "execution_count": 5,
      "outputs": [
        {
          "output_type": "stream",
          "name": "stdout",
          "text": [
            "WARNING: Switch on GPU for faster training!\n"
          ]
        }
      ]
    },
    {
      "cell_type": "markdown",
      "source": [
        "#Data Preperartion"
      ],
      "metadata": {
        "id": "9QXPO4BRHKXy"
      }
    },
    {
      "cell_type": "code",
      "source": [
        "# Function to display an image\n",
        "def show_img(im, figsize=None, ax=None):\n",
        "    if not ax: fig, ax = plt.subplots(figsize=figsize)\n",
        "    ax.imshow(im)\n",
        "    ax.axis('off')  # Hide axes ticks\n",
        "    return ax\n",
        "\n",
        "# Function to load a document's text\n",
        "def load_doc(filename):\n",
        "    with open(filename, 'r') as file:\n",
        "        text = file.read()\n",
        "    return text\n",
        "\n",
        "# Function to load data (images and text) from a directory\n",
        "def load_data(data_dir):\n",
        "    texts = []\n",
        "    images = []\n",
        "    # Load all the files and order them\n",
        "    all_filenames = sorted(os.listdir(data_dir))  # Sort to maintain alignment\n",
        "    for filename in all_filenames:\n",
        "        if filename.endswith(\".npz\"):\n",
        "            # Load image data prepared in npz array format\n",
        "            image = np.load(os.path.join(data_dir, filename))\n",
        "            images.append(image['features'])\n",
        "        elif filename.endswith(\".gui\"):\n",
        "            # Load and format the text\n",
        "            syntax = '<START> ' + load_doc(os.path.join(data_dir, filename)) + ' <END>'\n",
        "            syntax = ' '.join(syntax.split())  # Ensure single spaces\n",
        "            syntax = syntax.replace(',', ' ,')  # Space after commas\n",
        "            texts.append(syntax)\n",
        "    images = np.array(images, dtype=float)  # Ensure all images are float arrays\n",
        "    return images, texts\n",
        "\n",
        "# Adjusted to use your training path\n",
        "DS_PATH = '/content/drive/MyDrive/Datasets/web/all_data/'  # Ensure this is your correct path\n",
        "train_features, texts = load_data(DS_PATH)\n"
      ],
      "metadata": {
        "id": "t8OtTKteF3E9"
      },
      "execution_count": 18,
      "outputs": []
    },
    {
      "cell_type": "markdown",
      "source": [
        "#Visualization"
      ],
      "metadata": {
        "id": "uOnsGDmNJpTM"
      }
    },
    {
      "cell_type": "code",
      "source": [
        "# Function to display an image\n",
        "def show_img(img_path, figsize=(4,4)):\n",
        "    im = Image.open(img_path)\n",
        "    fig, ax = plt.subplots(figsize=figsize)\n",
        "    ax.imshow(im)\n",
        "    ax.set_title('GUI image')\n",
        "    ax.axis('off')  # Hide axes ticks\n",
        "    return ax\n",
        "\n",
        "# Assuming texts is a list of GUI markup strings and image_paths is a list of image file paths\n",
        "print(\"Here's what an example looks like\\n\")\n",
        "print(\"GUI text:\", texts[0])\n",
        "\n",
        "# Since train_features should now directly contain the paths to your images\n",
        "# Use the first image path in your list for visualization\n",
        "ax = show_img(image_paths[0], figsize=(4,4))\n",
        "\n"
      ],
      "metadata": {
        "id": "m_5i7kJKJsDo",
        "outputId": "7c4153e7-c104-4a68-b740-d951455f6d08",
        "colab": {
          "base_uri": "https://localhost:8080/",
          "height": 309
        }
      },
      "execution_count": 12,
      "outputs": [
        {
          "output_type": "stream",
          "name": "stdout",
          "text": [
            "Here's what an example looks like\n",
            "\n",
            "GUI text: <START> header { btn-active , btn-inactive , btn-inactive , btn-inactive } row { single { small-title , text , btn-orange } } row { double { small-title , text , btn-orange } double { small-title , text , btn-orange } } row { double { small-title , text , btn-red } double { small-title , text , btn-orange } } <END>\n"
          ]
        },
        {
          "output_type": "display_data",
          "data": {
            "text/plain": [
              "<Figure size 400x400 with 1 Axes>"
            ],
            "image/png": "[encoded data removed]"
          },
          "metadata": {}
        }
      ]
    },
    {
      "cell_type": "code",
      "source": [
        "# Dataset info as Sanity check\n",
        "train_features.shape, len(texts)"
      ],
      "metadata": {
        "id": "z_gSbMJtJ1AW",
        "outputId": "54aaabc7-2344-4e42-c9e3-23bef0c9ca28",
        "colab": {
          "base_uri": "https://localhost:8080/"
        }
      },
      "execution_count": 20,
      "outputs": [
        {
          "output_type": "execute_result",
          "data": {
            "text/plain": [
              "((0,), 1747)"
            ]
          },
          "metadata": {},
          "execution_count": 20
        }
      ]
    },
    {
      "cell_type": "code",
      "source": [],
      "metadata": {
        "id": "6GDWQZdyMfJq"
      },
      "execution_count": null,
      "outputs": []
    }
  ]
}