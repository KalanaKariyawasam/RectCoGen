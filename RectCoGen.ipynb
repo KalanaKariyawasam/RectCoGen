{
  "nbformat": 4,
  "nbformat_minor": 0,
  "metadata": {
    "colab": {
      "provenance": [],
      "include_colab_link": true
    },
    "kernelspec": {
      "name": "python3",
      "display_name": "Python 3"
    },
    "language_info": {
      "name": "python"
    }
  },
  "cells": [
    {
      "cell_type": "markdown",
      "metadata": {
        "id": "view-in-github",
        "colab_type": "text"
      },
      "source": [
        "<a href=\"https://colab.research.google.com/github/KalanaKariyawasam/RectCoGen/blob/rectcogen_ml_model/RectCoGen.ipynb\" target=\"_parent\"><img src=\"https://colab.research.google.com/assets/colab-badge.svg\" alt=\"Open In Colab\"/></a>"
      ]
    },
    {
      "cell_type": "markdown",
      "source": [
        "Kalana Kariyawasam  \n",
        "w1809765  \n",
        "2019353\n",
        "\n",
        "#RectCoGen: Machine Learning Based Code Generation for Front-end Implementation\n",
        "\n",
        "**Domain:** Front-end Development  \n",
        "**Problem Overview:** The labor-intensive and error-prone process of manually converting web wireframes and graphical user interfaces (GUIs) into functional code. Traditionally, this task requires extensive collaboration between designers and developers, leading to increased development time, higher costs, and potential for discrepancies between the intended design and the implemented functionality. RectCoGen seeks to simplify this process by introducing an automated solution that transforms design blueprints into React components, aiming to improve efficiency, reduce errors, and lower financial burdens associated with web development.\n",
        "\n",
        "\n",
        "\n",
        "\n",
        "\n",
        "\n"
      ],
      "metadata": {
        "id": "X95ly257E-Kk"
      }
    },
    {
      "cell_type": "markdown",
      "source": [
        "#Initial Setup\n"
      ],
      "metadata": {
        "id": "PyfSgWKtDxNR"
      }
    },
    {
      "cell_type": "code",
      "source": [
        "from os import listdir\n",
        "from numpy import array\n",
        "import numpy as np\n",
        "import os\n",
        "from sklearn.model_selection import train_test_split\n",
        "\n",
        "# Importing necessary functions from tensorflow.keras instead of keras\n",
        "from tensorflow.keras.preprocessing.text import Tokenizer, one_hot\n",
        "from tensorflow.keras.preprocessing.sequence import pad_sequences\n",
        "from tensorflow.keras.models import Model, Sequential, model_from_json\n",
        "from tensorflow.keras.utils import to_categorical\n",
        "# Updated import path for Dense, Dropout, Flatten\n",
        "from tensorflow.keras.layers import Dense, Dropout, Flatten, Conv2D, Embedding, TimeDistributed, RepeatVector, LSTM, concatenate, Input, Reshape\n",
        "from tensorflow.keras.optimizers import RMSprop\n",
        "from tensorflow.keras.callbacks import ModelCheckpoint\n",
        "from tensorflow.keras.preprocessing.image import array_to_img, img_to_array, load_img\n",
        "\n",
        "import tensorflow as tf\n",
        "import matplotlib.pyplot as plt\n",
        "from PIL import Image\n",
        "import re\n",
        "import string"
      ],
      "metadata": {
        "id": "tCALTlGeD1lj"
      },
      "execution_count": null,
      "outputs": []
    },
    {
      "cell_type": "markdown",
      "source": [
        "#Import Dataset"
      ],
      "metadata": {
        "id": "HLzORwxHGje6"
      }
    },
    {
      "cell_type": "code",
      "source": [
        "# Directory where the data is stored\n",
        "data_dir = '/content/drive/MyDrive/RectCoGen/Datasets/web/all_data'\n",
        "\n",
        "# Lists to store paths of images and their labels\n",
        "image_paths = []\n",
        "labels = []\n",
        "\n",
        "# Assuming images and their corresponding markup files are in the same directory\n",
        "for filename in os.listdir(data_dir):\n",
        "    if filename.endswith('.png'):  # or '.jpg' depending on your dataset\n",
        "        image_paths.append(os.path.join(data_dir, filename))\n",
        "        label_path = os.path.join(data_dir, filename.replace('.png', '.gui'))  # Adjust the extension based on your data\n",
        "        labels.append(label_path)\n",
        "\n",
        "# Split the data into training and evaluation sets\n",
        "X_train, X_eval, y_train, y_eval = train_test_split(image_paths, labels, test_size=0.2, random_state=42)\n",
        "\n",
        "# X_train and y_train are your training images and labels respectively\n",
        "# X_eval and y_eval are your evaluation images and labels respectively"
      ],
      "metadata": {
        "id": "kP5rKrFpEAfZ"
      },
      "execution_count": null,
      "outputs": []
    },
    {
      "cell_type": "markdown",
      "source": [
        "#Training Parameters"
      ],
      "metadata": {
        "id": "yJDwyoA-Fse5"
      }
    },
    {
      "cell_type": "code",
      "source": [
        "# Check if GPU is available and set hyperparameters accordingly\n",
        "if tf.config.list_physical_devices('GPU'):\n",
        "    # GPU settings\n",
        "    EPOCHS = 50\n",
        "    MAX_SEQUENCE = 150\n",
        "    MAX_LEN = 48\n",
        "else:\n",
        "    # CPU settings\n",
        "    EPOCHS = 50\n",
        "    MAX_SEQUENCE = 100\n",
        "    MAX_LEN = 48\n",
        "    print(\"WARNING: Switch on GPU for faster training!\")\n"
      ],
      "metadata": {
        "id": "niNPXK7kEy_-",
        "outputId": "22e71c17-6073-4416-e8bc-f827167dc909",
        "colab": {
          "base_uri": "https://localhost:8080/"
        }
      },
      "execution_count": null,
      "outputs": [
        {
          "metadata": {
            "tags": null
          },
          "name": "stdout",
          "output_type": "stream",
          "text": [
            "WARNING: Switch on GPU for faster training!\n"
          ]
        }
      ]
    },
    {
      "cell_type": "markdown",
      "source": [
        "#Data Preperartion"
      ],
      "metadata": {
        "id": "9QXPO4BRHKXy"
      }
    },
    {
      "cell_type": "code",
      "source": [
        "# Function to display an image# Function to display an image\n",
        "def show_img(im, figsize=None, ax=None):\n",
        "    if not ax:\n",
        "        fig, ax = plt.subplots(figsize=figsize)\n",
        "    ax.imshow(im)\n",
        "    ax.axis('off')  # Hide axes ticks\n",
        "    return ax\n",
        "\n",
        "# Read a file and return a string\n",
        "def load_doc(filename):\n",
        "    # Ensures reading of .gui files only\n",
        "    with open(filename, 'r', encoding='utf-8') as file:\n",
        "        text = file.read()\n",
        "    return text\n",
        "\n",
        "# Load and preprocess images\n",
        "def load_images(image_paths, target_size=(256, 256)):\n",
        "    images_data = []\n",
        "    for path in image_paths:\n",
        "        image = load_img(path, target_size=target_size)\n",
        "        image_array = img_to_array(image) / 255.0\n",
        "        images_data.append(image_array)\n",
        "    return np.array(images_data)\n",
        "\n",
        "# Lists to store paths of images and their labels\n",
        "image_paths = []\n",
        "texts = []\n",
        "\n",
        "# Assuming images and their corresponding markup files are in the same directory\n",
        "for filename in os.listdir(data_dir):\n",
        "    if filename.endswith('.png'):\n",
        "        image_paths.append(os.path.join(data_dir, filename))\n",
        "        label_path = os.path.join(data_dir, filename.replace('.png', '.gui'))\n",
        "        if os.path.exists(label_path):  # Make sure the corresponding .gui file exists\n",
        "            texts.append(load_doc(label_path))\n",
        "\n",
        "# Now, load and preprocess the images\n",
        "train_features = load_images(image_paths)\n",
        "\n",
        "print(\"Loaded {} images and {} text files\".format(len(train_features), len(texts)))\n"
      ],
      "metadata": {
        "id": "t8OtTKteF3E9",
        "colab": {
          "base_uri": "https://localhost:8080/"
        },
        "outputId": "702dfe1b-c8a1-41ae-8731-300b67f78048"
      },
      "execution_count": null,
      "outputs": [
        {
          "output_type": "stream",
          "name": "stdout",
          "text": [
            "Loaded 1747 images and 1747 text files\n"
          ]
        }
      ]
    },
    {
      "cell_type": "markdown",
      "source": [
        "#Visualization"
      ],
      "metadata": {
        "id": "uOnsGDmNJpTM"
      }
    },
    {
      "cell_type": "code",
      "source": [
        "# Function to display an image from path and its GUI text\n",
        "def show_img_with_text(img_path, gui_text, figsize=(4,4)):\n",
        "    im = Image.open(img_path)\n",
        "    fig, ax = plt.subplots(figsize=figsize)\n",
        "    ax.imshow(im)\n",
        "    ax.set_title('GUI image')\n",
        "    ax.axis('off')  # Hide axes ticks\n",
        "    print(\"GUI text:\", gui_text)\n",
        "    plt.show()\n",
        "\n",
        "# Assuming texts is a list of GUI markup strings and image_paths is a list of image file paths\n",
        "if len(image_paths) > 0 and len(texts) > 0:\n",
        "    # Show the first example of GUI image and text\n",
        "    show_img_with_text(image_paths[0], texts[0])\n",
        "else:\n",
        "    print(\"No images or text files loaded.\")"
      ],
      "metadata": {
        "colab": {
          "base_uri": "https://localhost:8080/",
          "height": 827
        },
        "id": "H8dkh-5JBroe",
        "outputId": "4a2e2ddb-ca0a-45c9-d1a4-2246c07e2bff"
      },
      "execution_count": null,
      "outputs": [
        {
          "output_type": "stream",
          "name": "stdout",
          "text": [
            "GUI text: header {\n",
            "btn-inactive, btn-active\n",
            "}\n",
            "row {\n",
            "double {\n",
            "small-title, text, btn-orange\n",
            "}\n",
            "double {\n",
            "small-title, text, btn-orange\n",
            "}\n",
            "}\n",
            "row {\n",
            "quadruple {\n",
            "small-title, text, btn-orange\n",
            "}\n",
            "quadruple {\n",
            "small-title, text, btn-orange\n",
            "}\n",
            "quadruple {\n",
            "small-title, text, btn-orange\n",
            "}\n",
            "quadruple {\n",
            "small-title, text, btn-green\n",
            "}\n",
            "}\n",
            "row {\n",
            "double {\n",
            "small-title, text, btn-orange\n",
            "}\n",
            "double {\n",
            "small-title, text, btn-green\n",
            "}\n",
            "}\n",
            "\n"
          ]
        },
        {
          "output_type": "display_data",
          "data": {
            "text/plain": [
              "<Figure size 400x400 with 1 Axes>"
            ],
            "image/png": "[encoded data removed]"
          },
          "metadata": {}
        }
      ]
    },
    {
      "cell_type": "code",
      "source": [
        "# Dataset info as Sanity check\n",
        "print(\"Shape of train_features:\", train_features.shape)\n",
        "print(\"Number of text entries:\", len(texts))"
      ],
      "metadata": {
        "id": "z_gSbMJtJ1AW",
        "outputId": "615e594f-5033-4c1e-ddb0-99db88b4ab94",
        "colab": {
          "base_uri": "https://localhost:8080/"
        }
      },
      "execution_count": null,
      "outputs": [
        {
          "output_type": "stream",
          "name": "stdout",
          "text": [
            "Shape of train_features: (1747, 256, 256, 3)\n",
            "Number of text entries: 1747\n"
          ]
        }
      ]
    },
    {
      "cell_type": "markdown",
      "source": [
        "#The Tokens Per Sentence Plot"
      ],
      "metadata": {
        "id": "tNlLE5MmDL23"
      }
    },
    {
      "cell_type": "code",
      "source": [
        "# Custom Tokenizer\n",
        "re_tok = re.compile(f'([{string.punctuation}“”¨«»®´·º½¾¿¡§£₤‘’])')\n",
        "def tokenize(s): return re_tok.sub(r' \\1 ', s).split()\n",
        "\n",
        "# Plot sentence by lenght\n",
        "plt.hist([len(tokenize(s)) for s in texts], bins=50)\n",
        "plt.title('Tokens per sentence')\n",
        "plt.xlabel('Len (number of token)')\n",
        "plt.ylabel('# samples')\n",
        "plt.show()"
      ],
      "metadata": {
        "id": "6GDWQZdyMfJq",
        "colab": {
          "base_uri": "https://localhost:8080/",
          "height": 472
        },
        "outputId": "680a828e-b77a-4f42-b993-b7eb0aa018a4"
      },
      "execution_count": null,
      "outputs": [
        {
          "output_type": "display_data",
          "data": {
            "text/plain": [
              "<Figure size 640x480 with 1 Axes>"
            ],
            "image/png": "[encoded data removed]"
          },
          "metadata": {}
        }
      ]
    },
    {
      "cell_type": "markdown",
      "source": [
        "#Data Preprocessing"
      ],
      "metadata": {
        "id": "WaL-w7GFENHq"
      }
    },
    {
      "cell_type": "code",
      "source": [
        "# Initialize the function to create the vocabulary\n",
        "tokenizer = Tokenizer(filters='', split=\" \", lower=False)\n",
        "# Create the vocabulary\n",
        "tokenizer.fit_on_texts([load_doc('/content/drive/MyDrive/RectCoGen/bootstrap.vocab')])\n",
        "\n",
        "# Add one spot for the empty word in the vocabulary\n",
        "VOCAB_SIZE = len(tokenizer.word_index) + 1\n",
        "\n",
        "def preprocess_data(texts, features, max_sequence):\n",
        "    X, y, image_data = list(), list(), list()\n",
        "    sequences = tokenizer.texts_to_sequences(texts)\n",
        "    for img_no, seq in enumerate(sequences):\n",
        "        for i in range(1, len(seq)):\n",
        "            # Add the sentence until the current count(i) and add the current count to the output\n",
        "            in_seq, out_seq = seq[:i], seq[i]\n",
        "            # Pad all the input token sentences to max_sequence\n",
        "            in_seq = pad_sequences([in_seq], maxlen=max_sequence)[0]\n",
        "            # Turn the output into one-hot encoding\n",
        "            out_seq = to_categorical([out_seq], num_classes=VOCAB_SIZE)[0]\n",
        "            # Add the corresponding image to the boostrap token file\n",
        "            image_data.append(features[img_no])\n",
        "            # Cap the input sentence to MAX_LEN tokens and add it\n",
        "            X.append(in_seq[-MAX_LEN:])\n",
        "            y.append(out_seq)\n",
        "    return np.array(image_data), np.array(X), np.array(y)\n",
        "\n",
        "    print(\"Preprocessing completed successfully.\")"
      ],
      "metadata": {
        "id": "Lp0bcYl1EPoN"
      },
      "execution_count": null,
      "outputs": []
    },
    {
      "cell_type": "markdown",
      "source": [
        "# Show Vocabulary"
      ],
      "metadata": {
        "id": "iJpc2FNbKnot"
      }
    },
    {
      "cell_type": "code",
      "source": [
        "tokenizer.word_index"
      ],
      "metadata": {
        "colab": {
          "base_uri": "https://localhost:8080/"
        },
        "id": "OuijSPaKKijb",
        "outputId": "0020d50f-61fc-474f-dec2-09f964ac1abc"
      },
      "execution_count": null,
      "outputs": [
        {
          "data": {
            "text/plain": [
              "{',': 1,\n",
              " '{': 2,\n",
              " '}': 3,\n",
              " 'small-title': 4,\n",
              " 'text': 5,\n",
              " 'quadruple': 6,\n",
              " 'row': 7,\n",
              " 'btn-inactive': 8,\n",
              " 'btn-orange': 9,\n",
              " 'btn-green': 10,\n",
              " 'btn-red': 11,\n",
              " 'double': 12,\n",
              " '<START>': 13,\n",
              " 'header': 14,\n",
              " 'btn-active': 15,\n",
              " '<END>': 16,\n",
              " 'single': 17}"
            ]
          },
          "execution_count": 51,
          "metadata": {},
          "output_type": "execute_result"
        }
      ]
    },
    {
      "cell_type": "markdown",
      "source": [
        "#Data Generator"
      ],
      "metadata": {
        "id": "ytEyPUzzK01T"
      }
    },
    {
      "cell_type": "code",
      "source": [
        "# Data generator, intended to be used in a call to model.fit_generator()\n",
        "def data_generator(descriptions, features, n_step, max_sequence):\n",
        "    # loop until we finish training\n",
        "    while 1:\n",
        "        # loop over photo identifiers in the dataset\n",
        "        for i in range(0, len(descriptions), n_step):\n",
        "            Ximages, XSeq, y = list(), list(),list()\n",
        "            for j in range(i, min(len(descriptions), i+n_step)):\n",
        "                image = features[j]\n",
        "                # retrieve text input\n",
        "                desc = descriptions[j]\n",
        "                # Generate input-output pairs\n",
        "                in_img, in_seq, out_word = preprocess_data([desc], [image], max_sequence)\n",
        "                for k in range(len(in_img)):\n",
        "                    Ximages.append(in_img[k])\n",
        "                    XSeq.append(in_seq[k])\n",
        "                    y.append(out_word[k])\n",
        "            # yield this batch of samples to the model\n",
        "            yield [[array(Ximages), array(XSeq)], array(y)]"
      ],
      "metadata": {
        "id": "lYdpkZG7KqT_"
      },
      "execution_count": null,
      "outputs": []
    },
    {
      "cell_type": "code",
      "source": [],
      "metadata": {
        "id": "AfSdgT7MK3bx"
      },
      "execution_count": null,
      "outputs": []
    }
  ]
}